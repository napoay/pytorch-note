{
 "cells": [
  {
   "cell_type": "code",
   "execution_count": 1,
   "metadata": {},
   "outputs": [],
   "source": [
    "import torch"
   ]
  },
  {
   "cell_type": "code",
   "execution_count": 2,
   "metadata": {},
   "outputs": [
    {
     "name": "stdout",
     "output_type": "stream",
     "text": [
      "tensor([[1., 1.],\n",
      "        [1., 1.]], requires_grad=True)\n"
     ]
    }
   ],
   "source": [
    "x = torch.ones(2, 2, requires_grad=True)\n",
    "print(x)"
   ]
  },
  {
   "cell_type": "code",
   "execution_count": 3,
   "metadata": {},
   "outputs": [
    {
     "name": "stdout",
     "output_type": "stream",
     "text": [
      "tensor([[3., 3.],\n",
      "        [3., 3.]], grad_fn=<AddBackward0>)\n"
     ]
    }
   ],
   "source": [
    "y = x + 2\n",
    "print(y)"
   ]
  },
  {
   "cell_type": "code",
   "execution_count": 4,
   "metadata": {},
   "outputs": [
    {
     "name": "stdout",
     "output_type": "stream",
     "text": [
      "<AddBackward0 object at 0x111131110>\n"
     ]
    }
   ],
   "source": [
    "print(y.grad_fn)"
   ]
  },
  {
   "cell_type": "code",
   "execution_count": 5,
   "metadata": {},
   "outputs": [
    {
     "name": "stdout",
     "output_type": "stream",
     "text": [
      "tensor([[27., 27.],\n",
      "        [27., 27.]], grad_fn=<MulBackward0>) tensor(27., grad_fn=<MeanBackward1>)\n"
     ]
    }
   ],
   "source": [
    "z = y * y * 3\n",
    "out = z.mean()\n",
    "\n",
    "print(z, out)"
   ]
  },
  {
   "cell_type": "code",
   "execution_count": 6,
   "metadata": {},
   "outputs": [
    {
     "name": "stdout",
     "output_type": "stream",
     "text": [
      "False\n",
      "True\n",
      "<SumBackward0 object at 0x124b0b510>\n"
     ]
    }
   ],
   "source": [
    "a = torch.randn(2, 2)\n",
    "a = ((a * 3) / (a - 1))\n",
    "print(a.requires_grad)\n",
    "a.requires_grad_(True)\n",
    "print(a.requires_grad)\n",
    "b = (a * a).sum()\n",
    "print(b.grad_fn)"
   ]
  },
  {
   "cell_type": "code",
   "execution_count": 7,
   "metadata": {},
   "outputs": [],
   "source": [
    "out.backward()"
   ]
  },
  {
   "cell_type": "code",
   "execution_count": 8,
   "metadata": {},
   "outputs": [
    {
     "name": "stdout",
     "output_type": "stream",
     "text": [
      "tensor([[4.5000, 4.5000],\n",
      "        [4.5000, 4.5000]])\n"
     ]
    }
   ],
   "source": [
    "print(x.grad)"
   ]
  },
  {
   "cell_type": "code",
   "execution_count": 9,
   "metadata": {},
   "outputs": [
    {
     "name": "stdout",
     "output_type": "stream",
     "text": [
      "False\n",
      "True\n",
      "True\n",
      "True\n",
      "tensor([1.5000, 2.5000, 3.5000])\n",
      "tensor(1.)\n"
     ]
    }
   ],
   "source": [
    "#创建一个多元函数，即Y=XW+b=Y=x1*w1+x2*w2*x3*w3+b，x不可求导，W,b设置可求导\n",
    "X=torch.tensor([1.5,2.5,3.5],requires_grad=False)\n",
    "W=torch.tensor([0.2,0.4,0.6],requires_grad=True)\n",
    "b=torch.tensor(0.1,requires_grad=True)\n",
    "Y=torch.add(torch.dot(X,W),b)\n",
    "\n",
    "#判断每个tensor是否是可以求导的\n",
    "print(X.requires_grad)\n",
    "print(W.requires_grad)\n",
    "print(b.requires_grad)\n",
    "print(Y.requires_grad)\n",
    "\n",
    "# 求导，通过backward函数来实现\n",
    "Y.backward()  \n",
    " \n",
    "#查看导数，也即所谓的梯度\n",
    "print(W.grad)\n",
    "\n",
    "print(b.grad)"
   ]
  },
  {
   "cell_type": "code",
   "execution_count": 10,
   "metadata": {},
   "outputs": [
    {
     "name": "stdout",
     "output_type": "stream",
     "text": [
      "True\n",
      "True\n",
      "True\n",
      "True\n",
      "===================================\n",
      "tensor([[1.3333, 2.0000, 2.6667],\n",
      "        [3.3333, 4.0000, 4.6667]])\n"
     ]
    }
   ],
   "source": [
    "\n",
    "'''\n",
    "x 是一个（2,3）的矩阵，设置为可导，是叶节点，即leaf variable\n",
    "y 是中间变量,由于x可导，所以y可导\n",
    "z 是中间变量,由于x，y可导，所以z可导\n",
    "f 是一个求和函数，最终得到的是一个标量scaler\n",
    "'''\n",
    "\n",
    "x = torch.tensor([[1.,2.,3.],[4.,5.,6.]],requires_grad=True)\n",
    "y = torch.add(x,1)\n",
    "z = 2*torch.pow(y,2)\n",
    "f = torch.mean(z)  \n",
    "\n",
    "\n",
    "print(x.requires_grad)\n",
    "print(y.requires_grad)\n",
    "print(z.requires_grad)\n",
    "print(f.requires_grad)\n",
    "print('===================================')\n",
    "f.backward()\n",
    "\n",
    "print(x.grad)"
   ]
  },
  {
   "cell_type": "code",
   "execution_count": 11,
   "metadata": {},
   "outputs": [
    {
     "name": "stdout",
     "output_type": "stream",
     "text": [
      "tensor([[ 3.,  5.,  7.],\n",
      "        [ 9., 11., 13.]])\n"
     ]
    }
   ],
   "source": [
    "x = torch.tensor([[1.,2.,3.],[4.,5.,6.]],requires_grad=True)\n",
    "y = torch.add(torch.pow(x,2),x)\n",
    " \n",
    "gradient=torch.tensor([[1.0,1.0,1.0],[1.0,1.0,1.0]])\n",
    " \n",
    "y.backward(gradient)\n",
    " \n",
    "print(x.grad)\n"
   ]
  }
 ],
 "metadata": {
  "kernelspec": {
   "display_name": "Python 3",
   "language": "python",
   "name": "python3"
  },
  "language_info": {
   "codemirror_mode": {
    "name": "ipython",
    "version": 3
   },
   "file_extension": ".py",
   "mimetype": "text/x-python",
   "name": "python",
   "nbconvert_exporter": "python",
   "pygments_lexer": "ipython3",
   "version": "3.7.5"
  },
  "toc": {
   "base_numbering": 1,
   "nav_menu": {},
   "number_sections": false,
   "sideBar": true,
   "skip_h1_title": false,
   "title_cell": "Table of Contents",
   "title_sidebar": "Contents",
   "toc_cell": false,
   "toc_position": {},
   "toc_section_display": true,
   "toc_window_display": true
  }
 },
 "nbformat": 4,
 "nbformat_minor": 2
}
